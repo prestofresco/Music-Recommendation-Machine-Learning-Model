{
  "cells": [
    {
      "cell_type": "markdown",
      "metadata": {
        "id": "2jjMa9mINV1n"
      },
      "source": [
        "Imports ---------------------------------------------------------------------------------------------------------------------------------------------------------------------------------------------"
      ]
    },
    {
      "cell_type": "code",
      "execution_count": 53,
      "metadata": {
        "id": "ILlEhHjNNV1o"
      },
      "outputs": [],
      "source": [
        "import pandas as pd\n",
        "import numpy as np"
      ]
    },
    {
      "cell_type": "code",
      "execution_count": 54,
      "metadata": {
        "id": "wRElbpp1NV1o"
      },
      "outputs": [],
      "source": [
        "from sklearn.tree import DecisionTreeRegressor\n",
        "from sklearn.linear_model import LinearRegression"
      ]
    },
    {
      "cell_type": "code",
      "execution_count": 55,
      "metadata": {
        "id": "BiMa82_ANV1p"
      },
      "outputs": [],
      "source": [
        "from sklearn.metrics import r2_score\n",
        "from sklearn.metrics import mean_absolute_error\n",
        "from sklearn.metrics import mean_squared_error"
      ]
    },
    {
      "cell_type": "markdown",
      "metadata": {
        "id": "g7bo8-fONV1p"
      },
      "source": [
        "Dictionaries ----------------------------------------------------------------------------------------------------------------------------------------------------------------------------------------"
      ]
    },
    {
      "cell_type": "code",
      "execution_count": 56,
      "metadata": {
        "id": "gFkerpbKNV1p"
      },
      "outputs": [],
      "source": [
        "command_dic = {\n",
        "    \"help\" : \"This prints the help commands\",\n",
        "    \"search Artists\":\"Allows you to seach for an Artist within this data set\",\n",
        "    \"search Songs\":\"Search for a song\",\n",
        "    \"search Artist Songs\":\"Search for a song by an artist\",\n",
        "    \"list Artist Ratings\":\"Prints an artist ratings\",\n",
        "    \"list Song Ratings\":\"Pritns a song ratings\",\n",
        "    \"clear Artist Ratings\":\"clears the artist ratings\",\n",
        "    \"clear Song Ratings\":\"clears the songs ratings\",\n",
        "    \"rate Artist\":\"Rate an artist\",\n",
        "    \"rate Song\":\"Rate a song\",\n",
        "    \"rate SongID\":\"Rates a song based on the songID\",\n",
        "    \"update Artist Model\":\"updates the recommended artists\",\n",
        "    \"update Song Model\":\"updates the recommended songs\",\n",
        "    \"recArtists\":\"returns the top 50 recommended artists for the user\",\n",
        "    \"recSongs\":\"Prints the top 50 songs recommended for the user\",\n",
        "    \"exit\":\"terminates the program\"\n",
        "}\n",
        "artist_rating_dic = {}\n",
        "song_rating_dic = {}"
      ]
    },
    {
      "cell_type": "markdown",
      "metadata": {
        "id": "yKrsyz6xNV1p"
      },
      "source": [
        "Utility Functions -----------------------------------------------------------------------------------------------------------------------------------------------------------------------------------"
      ]
    },
    {
      "cell_type": "markdown",
      "metadata": {
        "id": "jdWbgJ8BNV1p"
      },
      "source": [
        "prints commands"
      ]
    },
    {
      "cell_type": "code",
      "execution_count": 57,
      "metadata": {
        "id": "X91pTO06NV1p"
      },
      "outputs": [],
      "source": [
        "def help():\n",
        "    for i in command_dic:\n",
        "        print(\"\\t\",i,\":\",command_dic[i])"
      ]
    },
    {
      "cell_type": "markdown",
      "metadata": {
        "id": "ywZEeOC-NV1p"
      },
      "source": [
        "Returns True if given artist exists."
      ]
    },
    {
      "cell_type": "code",
      "execution_count": 58,
      "metadata": {
        "id": "q8C_4WDwNV1q"
      },
      "outputs": [],
      "source": [
        "def existsArtist(search):\n",
        "    for index, row in artists_main.iterrows():\n",
        "        artist = str(row['artist'])\n",
        "        if(artist.lower()==search.lower()):\n",
        "            return True\n",
        "    return False"
      ]
    },
    {
      "cell_type": "markdown",
      "metadata": {
        "id": "INsGYwmBNV1q"
      },
      "source": [
        "Returns True if given song name exists for given artist. Case Sensitive!"
      ]
    },
    {
      "cell_type": "code",
      "execution_count": 59,
      "metadata": {
        "id": "d7o08nNONV1q"
      },
      "outputs": [],
      "source": [
        "def existsSongName(searchArtist,searchSong):\n",
        "    for index, row in songs_main.iterrows():\n",
        "        song = row['track_name']\n",
        "        artist = row['artist_1']\n",
        "        if(artist.lower()==searchArtist.lower()):\n",
        "            if(song==searchSong):\n",
        "                return True\n",
        "    return False"
      ]
    },
    {
      "cell_type": "markdown",
      "metadata": {
        "id": "Ulh3fK9aNV1q"
      },
      "source": [
        "Returns True if given songid exists. Case Sensitive!"
      ]
    },
    {
      "cell_type": "code",
      "execution_count": 60,
      "metadata": {
        "id": "kTy3Lj1cNV1q"
      },
      "outputs": [],
      "source": [
        "def existsSongID(search):\n",
        "    for index, row in songs_main.iterrows():\n",
        "        songid = row['track_id']\n",
        "        if(songid==search):\n",
        "            return True\n",
        "    return False"
      ]
    },
    {
      "cell_type": "markdown",
      "metadata": {
        "id": "rhfDTZuwNV1q"
      },
      "source": [
        "Return all artists matching given string sorted by maximum song popularity."
      ]
    },
    {
      "cell_type": "code",
      "execution_count": 61,
      "metadata": {
        "id": "TpwIZW7YNV1q"
      },
      "outputs": [],
      "source": [
        "def searchArtists(search):\n",
        "    artists = artists_main.copy(deep=True)\n",
        "    artists = artists.dropna(subset=['artist'])\n",
        "    artists = artists[artists['artist'].str.contains(search, case=False)]\n",
        "    artists = artists[['artist','avg_pop']]\n",
        "    artists = artists.sort_values(by='avg_pop', ascending=False)\n",
        "    return artists"
      ]
    },
    {
      "cell_type": "markdown",
      "metadata": {
        "id": "CZ8z6giaNV1q"
      },
      "source": [
        "Return all songs matching given string sorted by popularity."
      ]
    },
    {
      "cell_type": "code",
      "execution_count": 62,
      "metadata": {
        "id": "-yGxlTfENV1r"
      },
      "outputs": [],
      "source": [
        "def searchSongs(search):\n",
        "    songs = songs_main.copy(deep=True)\n",
        "    songs = songs.dropna(subset=['track_name'])\n",
        "    songs = songs[songs['track_name'].str.contains(search, case=False)]\n",
        "    songs = songs[['track_id','track_name','artist_1','popularity']]\n",
        "    songs = songs.sort_values(by=['popularity'], ascending=False)\n",
        "    return songs"
      ]
    },
    {
      "cell_type": "markdown",
      "metadata": {
        "id": "rhuWD8ZJNV1r"
      },
      "source": [
        "Return all songs matching given song ID sorted by popularity."
      ]
    },
    {
      "cell_type": "code",
      "execution_count": 63,
      "metadata": {
        "id": "CHcaNvLVNV1r"
      },
      "outputs": [],
      "source": [
        "def searchSongID(search):\n",
        "    songs = songs_main.copy(deep=True)\n",
        "    songs = songs.dropna(subset=['track_id'])\n",
        "    songs = songs[songs['track_id'].str.contains(search, case=False)]\n",
        "    songs = songs[['track_id','track_name','artist_1','popularity']]\n",
        "    songs = songs.sort_values(by=['popularity'], ascending=False)\n",
        "    return songs"
      ]
    },
    {
      "cell_type": "markdown",
      "metadata": {
        "id": "juDZkYkYNV1r"
      },
      "source": [
        "Return all songs matching a given artist sorted by popularity."
      ]
    },
    {
      "cell_type": "code",
      "execution_count": 64,
      "metadata": {
        "id": "41kqDBOjNV1r"
      },
      "outputs": [],
      "source": [
        "def searchArtistSongs(search):\n",
        "    songs = songs_main.copy(deep=True)\n",
        "    songs = songs.dropna(subset=['artist'])\n",
        "    songs = songs[songs['artist_all'].str.contains(search, case=False)]\n",
        "    songs = songs[['track_id','track_name','artist_all','popularity']]\n",
        "    songs = songs.sort_values(by=['popularity'], ascending=False)\n",
        "    return songs"
      ]
    },
    {
      "cell_type": "code",
      "execution_count": 65,
      "metadata": {
        "id": "IRS6c2cXNV1r"
      },
      "outputs": [],
      "source": [
        "def updateArtistPred():\n",
        "    # Create date frame of rated artists\n",
        "    artists_rated = artists_main.copy().dropna(subset=[user]).sort_values(by=[user], ascending=False)\n",
        "    # Fit the submodels\n",
        "    submodel_lin = LinearRegression().fit(artists_rated.loc[:,['avg_pop','avg_duration','avg_temp','avg_energy','avg_danceability','avg_loudness','avg_speechiness','avg_instrumentalness','avg_acousticness','avg_liveness','avg_valence']],artists_rated.loc[:,[user]])\n",
        "    submodel_tree = DecisionTreeRegressor(max_depth=3).fit(artists_rated.loc[:,['avg_pop','avg_duration','avg_temp','avg_energy','avg_danceability','avg_loudness','avg_speechiness','avg_instrumentalness','avg_acousticness','avg_liveness','avg_valence']],artists_rated.loc[:,[user]])\n",
        "    # Add columns for prediction of the submodels\n",
        "    artists_rated['est_lin'] = submodel_lin.predict(artists_rated.loc[:,['avg_pop','avg_duration','avg_temp','avg_energy','avg_danceability','avg_loudness','avg_speechiness','avg_instrumentalness','avg_acousticness','avg_liveness','avg_valence']])\n",
        "    artists_rated['est_tree'] = submodel_tree.predict(artists_rated.loc[:,['avg_pop','avg_duration','avg_temp','avg_energy','avg_danceability','avg_loudness','avg_speechiness','avg_instrumentalness','avg_acousticness','avg_liveness','avg_valence']])\n",
        "    # Fit the combining model on the submodel predictions\n",
        "    model = LinearRegression().fit(artists_rated.loc[:,['est_lin','est_tree']],artists_rated.loc[:,[user]])\n",
        "    # Copy the artists data frame and apply a predicted rating\n",
        "    artists_pred = artists_main.copy()\n",
        "    artists_pred['est_lin'] = submodel_lin.predict(artists_pred.loc[:,['avg_pop','avg_duration','avg_temp','avg_energy','avg_danceability','avg_loudness','avg_speechiness','avg_instrumentalness','avg_acousticness','avg_liveness','avg_valence']])\n",
        "    artists_pred['est_tree'] = submodel_tree.predict(artists_pred.loc[:,['avg_pop','avg_duration','avg_temp','avg_energy','avg_danceability','avg_loudness','avg_speechiness','avg_instrumentalness','avg_acousticness','avg_liveness','avg_valence']])\n",
        "    artists_pred['est_rating'] = model.predict(artists_pred.loc[:,['est_lin','est_tree']])\n",
        "    # sort and print the ratings\n",
        "    artists_pred = artists_pred.sort_values(by=['est_rating'], ascending=False)\n",
        "    artists_pred = artists_pred[['artist','est_rating',user]]\n",
        "    print('Recommended Artist were updated')\n",
        "    return artists_pred"
      ]
    },
    {
      "cell_type": "code",
      "execution_count": 66,
      "metadata": {
        "id": "SFwvOCG2NV1r"
      },
      "outputs": [],
      "source": [
        "def updateSongPred():\n",
        "    # Create date frame of rated artists\n",
        "    songs_rated = songs_main.copy().dropna(subset=[user]).sort_values(by=[user], ascending=False)\n",
        "    # Fit the submodels\n",
        "    submodel_lin = LinearRegression().fit(songs_rated.loc[:,['popularity','duration_ms','tempo','energy','danceability','loudness','speechiness','instrumentalness','acousticness','liveness','valence']],songs_rated.loc[:,[user]])\n",
        "    submodel_tree = DecisionTreeRegressor(max_depth=4).fit(songs_rated.loc[:,['popularity','duration_ms','tempo','energy','danceability','loudness','speechiness','instrumentalness','acousticness','liveness','valence']],songs_rated.loc[:,[user]])\n",
        "    # Add columns for prediction of the submodels\n",
        "    songs_rated['est_lin'] = submodel_lin.predict(songs_rated.loc[:,['popularity','duration_ms','tempo','energy','danceability','loudness','speechiness','instrumentalness','acousticness','liveness','valence']])\n",
        "    songs_rated['est_tree'] = submodel_tree.predict(songs_rated.loc[:,['popularity','duration_ms','tempo','energy','danceability','loudness','speechiness','instrumentalness','acousticness','liveness','valence']])\n",
        "    # Fit the combining model on the submodel predictions\n",
        "    model = LinearRegression().fit(songs_rated.loc[:,['est_lin','est_tree']],songs_rated.loc[:,[user]])\n",
        "    # Copy the artists data frame and apply a predicted rating\n",
        "    songs_pred = songs_main.copy()\n",
        "    songs_pred['est_lin'] = submodel_lin.predict(songs_pred.loc[:,['popularity','duration_ms','tempo','energy','danceability','loudness','speechiness','instrumentalness','acousticness','liveness','valence']])\n",
        "    songs_pred['est_tree'] = submodel_tree.predict(songs_pred.loc[:,['popularity','duration_ms','tempo','energy','danceability','loudness','speechiness','instrumentalness','acousticness','liveness','valence']])\n",
        "    songs_pred['est_rating'] = model.predict(songs_pred.loc[:,['est_lin','est_tree']])\n",
        "    # sort and print the ratings\n",
        "    songs_pred = songs_pred.sort_values(by=['est_rating'], ascending=False)\n",
        "    songs_pred = songs_pred[['artist_1','track_name','est_rating',user]]\n",
        "    print('Recommended songs were updated')\n",
        "    return songs_pred"
      ]
    },
    {
      "cell_type": "markdown",
      "metadata": {
        "id": "9jo5FxfpNV1r"
      },
      "source": [
        "Command Functions -----------------------------------------------------------------------------------------------------------------------------------------------------------------------------------"
      ]
    },
    {
      "cell_type": "markdown",
      "metadata": {
        "id": "4GEvulRbNV1r"
      },
      "source": [
        "top 50 artists matching a search string"
      ]
    },
    {
      "cell_type": "code",
      "execution_count": 67,
      "metadata": {
        "id": "YbasZUqqNV1s"
      },
      "outputs": [],
      "source": [
        "def com_search_artists():\n",
        "    print(\"\\tSearch Artists: \")\n",
        "    search = get_input(\"Artist Name> \")\n",
        "    if existsArtist(search):\n",
        "        artists = searchArtists(search)\n",
        "        print(artists.head(50).to_string(index=False))\n",
        "    else:\n",
        "        print(\"Artist not found\")\n",
        ""
      ]
    },
    {
      "cell_type": "markdown",
      "metadata": {
        "id": "zzvyJq8hNV1s"
      },
      "source": [
        "top 50 artists matching a search string"
      ]
    },
    {
      "cell_type": "code",
      "execution_count": 68,
      "metadata": {
        "id": "hTXqJrfCNV1s"
      },
      "outputs": [],
      "source": [
        "def com_search_songs():\n",
        "    print(\"\\tSearch Songs: \")\n",
        "    search = get_input(\"Song Name> \")\n",
        "    songs = searchSongs(search)\n",
        "    if(songs.empty):\n",
        "        print(\"No Songs Found\")\n",
        "    else:\n",
        "        print(songs.head(50).to_string(index=False))"
      ]
    },
    {
      "cell_type": "markdown",
      "metadata": {
        "id": "dH0pUkQJNV1s"
      },
      "source": [
        "List all songs by a given primary artist. Case Sensitive!"
      ]
    },
    {
      "cell_type": "code",
      "execution_count": 69,
      "metadata": {
        "id": "2TLmwe12NV1s"
      },
      "outputs": [],
      "source": [
        "def com_search_artist_songs():\n",
        "    print(\"\\tSearch Artist Songs: \")\n",
        "    search = get_input(\"Artist Name> \")\n",
        "    songs = searchArtistSongs(search)\n",
        "    if(songs.empty):\n",
        "        print(\"No Songs Found\")\n",
        "    else:\n",
        "        print(songs.to_string(index=False))"
      ]
    },
    {
      "cell_type": "markdown",
      "metadata": {
        "id": "i4BhxavXNV1s"
      },
      "source": [
        "List all records in the artist rating dictionary."
      ]
    },
    {
      "cell_type": "code",
      "execution_count": 70,
      "metadata": {
        "id": "bpuQANPdNV1s"
      },
      "outputs": [],
      "source": [
        "def com_list_artist_ratings():\n",
        "    artists = list(artist_rating_dic.items())\n",
        "    df = pd.DataFrame(artists, columns=['Artist', 'Rating'])\n",
        "    df = df.sort_values(by='Rating',ascending=False)\n",
        "    print(df[['Artist', 'Rating']].head(50).to_string(index=False))\n",
        "    print(\"\\n\")"
      ]
    },
    {
      "cell_type": "markdown",
      "metadata": {
        "id": "ox7bUg2WNV1s"
      },
      "source": [
        "List all records in the song rating dictionaries."
      ]
    },
    {
      "cell_type": "code",
      "execution_count": 71,
      "metadata": {
        "id": "-adYMfDWNV1s"
      },
      "outputs": [],
      "source": [
        "def com_list_song_ratings():\n",
        "    songs = [{'Artist': value[1], 'Song': value[2], 'Rating': value[0]} for key, value in song_rating_dic.items()]\n",
        "    df = pd.DataFrame(songs)\n",
        "    df = df.sort_values(by='Rating',ascending=False)\n",
        "    print(df[['Artist', 'Song', 'Rating']].head(50).to_string(index=False))\n",
        "    print(\"\\n\")"
      ]
    },
    {
      "cell_type": "markdown",
      "metadata": {
        "id": "QAp37_XZNV1t"
      },
      "source": [
        "Clears the artist rating dic"
      ]
    },
    {
      "cell_type": "code",
      "execution_count": 72,
      "metadata": {
        "id": "idRL91H-NV1t"
      },
      "outputs": [],
      "source": [
        "def com_clear_artist_ratings():\n",
        "    artist_rating_dic.clear()\n",
        "    print(\">>Artist ratings deleted\\n\")"
      ]
    },
    {
      "cell_type": "markdown",
      "metadata": {
        "id": "6omPVv53NV1t"
      },
      "source": [
        "Clears the song rating dic"
      ]
    },
    {
      "cell_type": "code",
      "execution_count": 73,
      "metadata": {
        "id": "Ut8sbZb6NV1y"
      },
      "outputs": [],
      "source": [
        "def com_clear_song_ratings():\n",
        "    song_rating_dic.clear()\n",
        "    print(\">>Song ratings deleted\\n\")"
      ]
    },
    {
      "cell_type": "code",
      "execution_count": 74,
      "metadata": {
        "id": "AISvf-XfNV1y"
      },
      "outputs": [],
      "source": [
        "def com_rate_artist_name():\n",
        "    artist = get_input(\"Artist Name> \")\n",
        "    if existsArtist(artist):\n",
        "        while True:\n",
        "            rating = get_input(\"Rating(1-10)> \")\n",
        "            if rating.isdigit() and 0 < int(rating) < 11:\n",
        "                artist_rating_dic[artist] = rating\n",
        "                print(\"Rating Saved\")\n",
        "                break\n",
        "            print(\"Please enter a number between 1-10\")\n",
        "    else:\n",
        "        print(\"ERROR: Artist not Found\")\n",
        ""
      ]
    },
    {
      "cell_type": "code",
      "execution_count": 75,
      "metadata": {
        "id": "1GatJzb4NV1z"
      },
      "outputs": [],
      "source": [
        "def com_rate_song_name():\n",
        "    user_input = get_input(\"Artist Name> \")\n",
        "    if existsArtist(user_input):\n",
        "        user_input = get_input(\"\\tSong Name> \")\n",
        "        songs = searchSongs(user_input)\n",
        "        if len(songs) > 0:\n",
        "            while len(songs) > 0:\n",
        "                print('Is this song you want to rate?\\n')\n",
        "                print(songs[['track_name','artist_1','popularity']].head().to_string(index=False))\n",
        "                user_input = get_input('')\n",
        "                if user_input == 'y':\n",
        "                    while True:\n",
        "                        print(\"Rating[1-10]: \")\n",
        "                        user_input = get_input(\">> \")\n",
        "                        if user_input.isdigit() and 0<int(user_input)<11:\n",
        "                            song_rating_dic[songs['track_id'].head(1)] = (user_input,songs['artist_all'].head(1),songs['track_name'].head(1))\n",
        "                            return\n",
        "                else:\n",
        "                    songs = songs.drop(index=0)\n",
        "    print(\"This song was not found\\n\")"
      ]
    },
    {
      "cell_type": "code",
      "execution_count": 76,
      "metadata": {
        "id": "vyx7ge5rNV1z"
      },
      "outputs": [],
      "source": [
        "def com_rate_song_id():\n",
        "    user_input = get_input('SongID> ')\n",
        "    if existsSongID(user_input):\n",
        "        song = searchSongID(user_input)\n",
        "        while True:\n",
        "            print(\"Rating[1-10]: \")\n",
        "            user_input = get_input(\">> \")\n",
        "            if user_input.isdigit() and 0 < int(user_input) < 11:\n",
        "                song_rating_dic[song['track_id'].head(1)] = (user_input,song['artist_all'].head(1),song['track_name'].head(1))\n",
        "                return\n",
        "            print('Please enter a number between 1-10')\n",
        "    print('SongID was not found')"
      ]
    },
    {
      "cell_type": "markdown",
      "metadata": {
        "id": "ZfDnplkjNV1z"
      },
      "source": [
        "Console Functions -----------------------------------------------------------------------------------------------------------------------------------------------------------------------------------"
      ]
    },
    {
      "cell_type": "markdown",
      "metadata": {
        "id": "Nlk1t5HlNV1z"
      },
      "source": [
        "Take a string input from command line"
      ]
    },
    {
      "cell_type": "code",
      "execution_count": 77,
      "metadata": {
        "id": "Z0qpo80fNV1z"
      },
      "outputs": [],
      "source": [
        "def get_input(prompt):\n",
        "    while True:\n",
        "        user_input = input(prompt)\n",
        "        if user_input.strip():\n",
        "            return user_input\n",
        "        else:\n",
        "            print(\"Invalid - Enter a string\")"
      ]
    },
    {
      "cell_type": "markdown",
      "metadata": {
        "id": "yx-mu7dYNV1z"
      },
      "source": [
        "Main --------------------------------------------------------------------------------------------"
      ]
    },
    {
      "cell_type": "code",
      "execution_count": 78,
      "metadata": {
        "colab": {
          "base_uri": "https://localhost:8080/"
        },
        "id": "gGPazjbcNV1z",
        "outputId": "9f337941-71bb-4626-f4ac-3eacac9152c3"
      },
      "outputs": [
        {
          "output_type": "stream",
          "name": "stdout",
          "text": [
            "Select User: \n",
            " 1:NP \n",
            " 2:PS \n",
            " 3:PK \n",
            " 4:HI \n",
            " 5:SVM \n",
            " 6:New User \n",
            "1\n",
            "Com> demo\n",
            "--------------------------------------------\n",
            "\n",
            "Recommended Artist were updated\n",
            "Recommended songs were updated\n",
            "--------------------------------------------\n",
            "\n",
            "Top 50 Recommended Artists:\n",
            "\n",
            "                   artist  est_rating\n",
            "      Genocide Superstars    8.676386\n",
            "               Long Knife    8.608821\n",
            "             Starflyer 59    8.586932\n",
            "                  Dag Vag    8.571701\n",
            "             Tara Perdida    8.565002\n",
            "              Bakers Eddy    8.564246\n",
            "                    syrin    8.556851\n",
            "            Arab On Radar    8.534767\n",
            "                  Trubbel    8.527707\n",
            "                    F.Y.P    8.520809\n",
            "               Modern Eon    8.514657\n",
            "              Misantropic    8.513947\n",
            "                  ALEXYZZ    8.491028\n",
            "               Hang Youth    8.477575\n",
            "Japanische Kampfhörspiele    8.473062\n",
            "                Birdflesh    8.472965\n",
            "                  Victims    8.470686\n",
            "           Franky Flowers    8.468415\n",
            "                     BAKI    8.444564\n",
            "              The Epoxies    8.444258\n",
            "                AbstructA    8.443841\n",
            "             This is Hell    8.441084\n",
            "             Minor Threat    8.440528\n",
            "                     Zeke    8.439907\n",
            "                Iron Chic    8.439262\n",
            "                  Caravan    8.438254\n",
            "                 Firewind    8.429982\n",
            "    Fucking Werewolf Asso    8.426965\n",
            "             Outta Pocket    8.422799\n",
            "         Lucifer's Friend    8.421012\n",
            "              Jaksi Taksi    8.419507\n",
            "          Kill Your Idols    8.418797\n",
            "                    Fresh    8.417983\n",
            "                   Yotora    8.414595\n",
            "             Generation X    8.412790\n",
            "           Pkew Pkew Pkew    8.411790\n",
            "              The Weirdos    8.411486\n",
            "    I Love Your Lifestyle    8.409676\n",
            "               Shook Ones    8.409371\n",
            "             Verbal Abuse    8.409285\n",
            "              Leatherface    8.406646\n",
            "             Cock Sparrer    8.405700\n",
            "                    Dicks    8.405115\n",
            "                Buzzcocks    8.400070\n",
            "                Barathrum    8.399848\n",
            "        Remembering Never    8.399357\n",
            "                  Inpulsa    8.399148\n",
            "          One Step Closer    8.396340\n",
            "               With Honor    8.395096\n",
            "           STIFF RICHARDS    8.393855 \n",
            "\n",
            "--------------------------------------------\n",
            "\n",
            "Top 50 Recommended Songs:\n",
            "\n",
            "            artist_1                                               track_name  est_rating\n",
            "               Guy J          The Trees, the Sea & the Sun - Continuous Mix 2   12.118122\n",
            "              Tiësto                                 Continuous Mix By Tiësto   10.696532\n",
            "              Deuter                                                  Kailash   10.496046\n",
            "           Darkspace                                                Dark 4.19   10.481781\n",
            "         Jonn Serrie                                   Slow Boat to Andromeda   10.467902\n",
            "         Jonn Serrie                                            Along the Way   10.417296\n",
            "               Sleep                     Dopesmoker - 2022 Remastered Version   10.411472\n",
            "         Jonn Serrie                                     The Observation Deck   10.364631\n",
            "               Celer                                         For the Entirety   10.360693\n",
            "     Galaxy 2 Galaxy                                   Journey of the Dragons   10.345484\n",
            "               Bvdub                                             Fade to Fall   10.313452\n",
            "         Liquid Mind                                        My Silent Knowing   10.309939\n",
            "         Liquid Mind                                In the Silence of My Soul   10.265136\n",
            "            Alio Die                                           A Place Beyond   10.263807\n",
            "     Guido Negraszus                          Nature and Dreamtime Didgeridoo   10.263639\n",
            "          Bongripper                                                  Descent   10.253548\n",
            "         Inquisition            Into the Infernal Regions of the Ancient Cult   10.235573\n",
            "         Klaus Wiese                                               The Divine   10.224710\n",
            "                Ahab                                               The Sermon   10.220158\n",
            "         Liquid Mind                                               Continuity   10.216016\n",
            "      Laura Sullivan                                         Lighter Than Air   10.213611\n",
            "        Droid Bishop                                           In My Delorean   10.213389\n",
            "       Igneous Flame                                                  Philtre   10.213242\n",
            "                 GAS                                            Königsforst 6   10.202804\n",
            "        John Digweed                          Structures - Continuous Mix CD1   10.195465\n",
            "          Happy Days                               Ne Me Quitte Pas (Dont Go)   10.192480\n",
            "     Mathias Grassow                                          A Bed of Clouds   10.185463\n",
            "         Liquid Mind                                          When Time Slows   10.185014\n",
            "         Liquid Mind                             Into the Silence of My Being   10.172945\n",
            "    David Arkenstone                                        Relax And Release   10.153985\n",
            "      Laura Sullivan                                            Wild and Free   10.145671\n",
            "            Lustmord                                              Revelation.   10.144249\n",
            "      Aaron Marshall                                                      NYC   10.136841\n",
            "         Chubby Wolf                                          Melting Upwards   10.133979\n",
            "      Judas Iscariot                               Gaze Upon Heaven in Flames   10.132382\n",
            "                BCee                                         Come and Join Us   10.127511\n",
            " Christopher Willits                                                   Return   10.126577\n",
            "           Deepchord                                                 Pressure   10.119579\n",
            "          Bengalfuel                                                     Arcs   10.117622\n",
            "    Bruno Sanfilippo                                       Piano Textures2 II   10.117236\n",
            "           Llewellyn                                    The Archangel Michael   10.113094\n",
            "44.caliberloveletter                                           messenger dove   10.112777\n",
            "             Lantlôs                                            Cloud Inhaler   10.108405\n",
            "            Halgrath       We'll Go Through Sorrow, Holding Each Others Hands   10.106022\n",
            "      Laura Sullivan                                         River of Healing   10.101236\n",
            "  Drowning the Light Within the Womb of a Dragon (Spiritual Predator Awakens)   10.101095\n",
            "      Lenny Ibizarre                                                   Vision   10.100454\n",
            "       Igneous Flame                                                     Wave   10.096331\n",
            "       Igneous Flame                                   Free Energy Oscillator   10.096192\n",
            "            Excision                                      Lost Lands 2017 Mix   10.095721 \n",
            "\n",
            "Com> exit\n",
            "Exiting Program\n"
          ]
        }
      ],
      "source": [
        "if __name__ == \"__main__\":\n",
        "\n",
        "    # Load songs and artists\n",
        "    songs_main = pd.read_csv(\"songs_main.csv\")\n",
        "    artists_main = pd.read_csv(\"artists_main.csv\")\n",
        "    artist_model = 0\n",
        "    song_model = 0\n",
        "    artist_pred = pd.DataFrame()\n",
        "    song_pred = pd.DataFrame()\n",
        "\n",
        "    # Select user\n",
        "    while True:\n",
        "        while True:\n",
        "            user_code = get_input(\"Select User: \\n 1:NP \\n 2:PS \\n 3:PK \\n 4:HI \\n 5:SVM \\n 6:New User \\n\")\n",
        "            if user_code.isdigit() and 0 < int(user_code) < 7:\n",
        "                break\n",
        "            print(\"please select again\")\n",
        "        user = None\n",
        "        match int(user_code):\n",
        "            case 1:\n",
        "                user = 'rating_np'\n",
        "            case 2:\n",
        "                user = 'rating_ps'\n",
        "            case 3:\n",
        "                user = 'rating_pk'\n",
        "            case 4:\n",
        "                user = 'rating_hi'\n",
        "            case 5:\n",
        "                user = 'rating_svm'\n",
        "            case 6:\n",
        "                user = 'rating_np'\n",
        "        break\n",
        "\n",
        "    # Populate dictionary from user artist ratings\n",
        "    # Populate dictionary from user songs ratings\n",
        "    artist_rating_dic = artists_main.copy().dropna(subset=[user]).set_index('artist')[user].to_dict()\n",
        "    song_rating_dic = songs_main.copy().dropna(subset=[user]).set_index('track_id')[[user, 'artist_1','track_name']].apply(tuple, axis=1).to_dict()\n",
        "\n",
        "    while True:\n",
        "        user_input = get_input(\"Com> \").lower()\n",
        "        match user_input:\n",
        "\n",
        "            case \"help\":\n",
        "                help()\n",
        "\n",
        "            case \"search artists\":\n",
        "                while True:\n",
        "                    com_search_artists()\n",
        "                    user_input = get_input(\"\\tSearch Again? [y/n]:\")\n",
        "                    match user_input:\n",
        "                        case \"n\":\n",
        "                            break\n",
        "                        case _:\n",
        "                            pass\n",
        "\n",
        "            case \"search songs\":\n",
        "                while True:\n",
        "                    com_search_songs()\n",
        "                    user_input = get_input(\"\\tSearch Again? [y/n]:\")\n",
        "                    match user_input:\n",
        "                        case \"n\":\n",
        "                            break\n",
        "                        case _:\n",
        "                            pass\n",
        "\n",
        "            case \"search artist songs\":\n",
        "                while True:\n",
        "                    com_search_artist_songs()\n",
        "                    user_input = get_input(\"\\tSearch Again? [y/n]:\")\n",
        "                    match user_input:\n",
        "                        case \"n\":\n",
        "                            break\n",
        "                        case _:\n",
        "                            pass\n",
        "\n",
        "            case \"list artist ratings\":\n",
        "                com_list_artist_ratings()\n",
        "            case \"list song ratings\":\n",
        "                com_list_song_ratings()\n",
        "            case \"clear artist ratings\":\n",
        "                print(f\"This will clear {user} Artist Ratings, do you wish to proceed? [y/n] \")\n",
        "                user_input = get_input(\"\")\n",
        "                if user_input == 'y':\n",
        "                    com_clear_artist_ratings()\n",
        "            case \"clear song ratings\":\n",
        "                print(f\"This will clear {user} Artist Ratings, do you wish to proceed? [y/n] \")\n",
        "                user_input = get_input(\"\")\n",
        "                if user_input == 'y':\n",
        "                    com_clear_song_ratings()\n",
        "            case \"rate artist\":\n",
        "                com_rate_artist_name()\n",
        "            case \"rate song\":\n",
        "                com_rate_song_name()\n",
        "            case \"rate song id\":\n",
        "                com_rate_song_id()\n",
        "            case \"exit\":\n",
        "                print(\"Exiting Program\")\n",
        "                break\n",
        "\n",
        "            case \"update artist model\":\n",
        "                artist_pred = updateArtistPred()\n",
        "            case \"update song model\":\n",
        "                song_pred =updateSongPred()\n",
        "            case 'recartists':\n",
        "                print(artist_pred[['artist','est_rating']].head(50).to_string(index=False),'\\n')\n",
        "            case 'recsongs':\n",
        "                print(song_pred[['artist_1','track_name','est_rating']].head(50).to_string(index=False),'\\n')\n",
        "\n",
        "            case 'demo':\n",
        "                print('--------------------------------------------\\n')\n",
        "                artist_pred = updateArtistPred()\n",
        "                song_pred = updateSongPred()\n",
        "                print('--------------------------------------------\\n')\n",
        "                print('Top 50 Recommended Artists:\\n')\n",
        "                print(artist_pred[['artist','est_rating']].head(50).to_string(index=False),'\\n')\n",
        "                print('--------------------------------------------\\n')\n",
        "                print('Top 50 Recommended Songs:\\n')\n",
        "                print(song_pred[['artist_1','track_name','est_rating']].head(50).to_string(index=False),'\\n')\n",
        "            case _:\n",
        "                print(\"Please select another Command, or enter help\")\n",
        "\n",
        ""
      ]
    }
  ],
  "metadata": {
    "kernelspec": {
      "display_name": "Python 3",
      "language": "python",
      "name": "python3"
    },
    "language_info": {
      "codemirror_mode": {
        "name": "ipython",
        "version": 3
      },
      "file_extension": ".py",
      "mimetype": "text/x-python",
      "name": "python",
      "nbconvert_exporter": "python",
      "pygments_lexer": "ipython3",
      "version": "3.6.4"
    },
    "colab": {
      "provenance": []
    }
  },
  "nbformat": 4,
  "nbformat_minor": 0
}